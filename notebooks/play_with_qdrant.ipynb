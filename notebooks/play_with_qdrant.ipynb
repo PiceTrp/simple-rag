{
 "cells": [
  {
   "cell_type": "markdown",
   "id": "d53b58cf-1f1f-4573-87d4-e38c852bf807",
   "metadata": {},
   "source": [
    "# Environment Variable"
   ]
  },
  {
   "cell_type": "code",
   "execution_count": 1,
   "id": "46c503e8-f7fa-4a0f-bf0d-3c576625c7ab",
   "metadata": {},
   "outputs": [
    {
     "data": {
      "text/plain": [
       "True"
      ]
     },
     "execution_count": 1,
     "metadata": {},
     "output_type": "execute_result"
    }
   ],
   "source": [
    "from dotenv import load_dotenv\n",
    "\n",
    "load_dotenv()"
   ]
  },
  {
   "cell_type": "code",
   "execution_count": 2,
   "id": "f18d674b-8d90-4f4a-a11c-e0d4cb91d6e0",
   "metadata": {
    "scrolled": true
   },
   "outputs": [
    {
     "data": {
      "text/plain": [
       "{'COLORTERM': 'truecolor',\n",
       " 'COMMAND_MODE': 'unix2003',\n",
       " 'HOME': '/Users/picetrp',\n",
       " 'LANG': 'en_GB.UTF-8',\n",
       " 'LOGNAME': 'picetrp',\n",
       " 'PATH': '/Users/picetrp/Documents/Learn/KMUTT/MS/projects/simple_rag/.venv/bin:/Users/picetrp/.langflow/uv:/Users/picetrp/Downloads/google-cloud-sdk/bin:/Users/picetrp/.local/bin:/Users/picetrp/.pyenv/shims:/Users/picetrp/.pyenv/bin:/opt/homebrew/opt/jpeg/bin:/Users/picetrp/opt/anaconda3/condabin:/Users/picetrp/.nvm/versions/node/v16.20.2/bin:/Users/picetrp/.rubies/ruby-3.2.2/bin:/opt/homebrew/bin:/usr/local/bin:/System/Cryptexes/App/usr/bin:/usr/bin:/bin:/usr/sbin:/sbin:/var/run/com.apple.security.cryptexd/codex.system/bootstrap/usr/local/bin:/var/run/com.apple.security.cryptexd/codex.system/bootstrap/usr/bin:/var/run/com.apple.security.cryptexd/codex.system/bootstrap/usr/appleinternal/bin:/Library/Apple/usr/bin:/Library/TeX/texbin:/Users/picetrp/.cargo/bin:/Users/picetrp/Library/Application Support/JetBrains/Toolbox/scripts:/Users/picetrp/development/flutter/bin',\n",
       " 'SHELL': '/bin/zsh',\n",
       " 'SSH_AUTH_SOCK': '/private/tmp/com.apple.launchd.GDVm25Cg9k/Listeners',\n",
       " 'SSH_SOCKET_DIR': '~/.ssh',\n",
       " 'TERM': 'xterm-color',\n",
       " 'TERM_PROGRAM': 'WarpTerminal',\n",
       " 'TERM_PROGRAM_VERSION': 'v0.2025.07.02.08.36.stable_02',\n",
       " 'TMPDIR': '/var/folders/2_/7_kx30fj0tgb803zjjs198_40000gn/T/',\n",
       " 'USER': 'picetrp',\n",
       " 'WARP_HONOR_PS1': '0',\n",
       " 'WARP_IS_LOCAL_SHELL_SESSION': '1',\n",
       " 'WARP_USE_SSH_WRAPPER': '1',\n",
       " 'XPC_FLAGS': '0x0',\n",
       " 'XPC_SERVICE_NAME': '0',\n",
       " '__CFBundleIdentifier': 'dev.warp.Warp-Stable',\n",
       " '__CF_USER_TEXT_ENCODING': '0x1F5:0x0:0x2',\n",
       " 'SHLVL': '1',\n",
       " 'PWD': '/Users/picetrp/Documents/Learn/KMUTT/MS/projects/simple_rag',\n",
       " 'OLDPWD': '/Users/picetrp/Documents/Learn/KMUTT/MS/projects',\n",
       " 'NVM_DIR': '/Users/picetrp/.nvm',\n",
       " 'NVM_CD_FLAGS': '-q',\n",
       " 'NVM_BIN': '/Users/picetrp/.nvm/versions/node/v16.20.2/bin',\n",
       " 'NVM_INC': '/Users/picetrp/.nvm/versions/node/v16.20.2/include/node',\n",
       " 'CONDA_EXE': '/Users/picetrp/opt/anaconda3/bin/conda',\n",
       " '_CE_M': '',\n",
       " '_CE_CONDA': '',\n",
       " 'CONDA_PYTHON_EXE': '/Users/picetrp/opt/anaconda3/bin/python',\n",
       " 'CONDA_SHLVL': '0',\n",
       " 'CFLAGS': '-I/opt/homebrew/Cellar/libraqm/0.10.1/include',\n",
       " 'LDFLAGS': '-L/opt/homebrew/lib -L/opt/homebrew/opt/jpeg/lib',\n",
       " 'CPPFLAGS': '-I/opt/homebrew/opt/jpeg/include',\n",
       " 'PYENV_SHELL': 'zsh',\n",
       " 'CONDA_CHANGEPS1': 'false',\n",
       " 'VIRTUAL_ENV': '/Users/picetrp/Documents/Learn/KMUTT/MS/projects/simple_rag/.venv',\n",
       " 'VIRTUAL_ENV_PROMPT': 'simple-rag',\n",
       " 'PS1': '(simple-rag) %{\\x1b]133;A\\x07(base) %n@%m %1~ %# \\x1b]133;B\\x07%}',\n",
       " '_': '/Users/picetrp/Documents/Learn/KMUTT/MS/projects/simple_rag/.venv/bin/jupyter',\n",
       " 'JPY_SESSION_NAME': '/Users/picetrp/Documents/Learn/KMUTT/MS/projects/simple_rag/notebooks/play_with_qdrant.ipynb',\n",
       " 'JPY_PARENT_PID': '43251',\n",
       " 'PYDEVD_USE_FRAME_EVAL': 'NO',\n",
       " 'CLICOLOR': '1',\n",
       " 'FORCE_COLOR': '1',\n",
       " 'CLICOLOR_FORCE': '1',\n",
       " 'PAGER': 'cat',\n",
       " 'GIT_PAGER': 'cat',\n",
       " 'MPLBACKEND': 'module://matplotlib_inline.backend_inline',\n",
       " 'LANGSMITH_TRACING': 'true',\n",
       " 'LANGSMITH_ENDPOINT': 'https://api.smith.langchain.com',\n",
       " 'LANGSMITH_API_KEY': '<hidden>',\n",
       " 'LANGSMITH_PROJECT': 'sitbrain',\n",
       " 'QDRANT_CLOUD_API_KEY': '<hidden>',\n",
       " 'QDRANT_CLOUD_URL': 'https://0dc69f70-4b03-4b0e-b615-3eb8ca7bd8d0.us-east4-0.gcp.cloud.qdrant.io:6333',\n",
       " 'OPENAI_API_KEY': '<hidden>',\n",
       " 'GOOGLE_API_KEY': '<hidden>',\n",
       " 'HUGGINGFACE_TOKEN': '<hidden>',\n",
       " 'CHUNK_SIZE': '1000',\n",
       " 'CHUNK_OVERLAP': '200',\n",
       " 'TOP_K_RESULTS': '5'}"
      ]
     },
     "execution_count": 2,
     "metadata": {},
     "output_type": "execute_result"
    }
   ],
   "source": [
    "env"
   ]
  },
  {
   "cell_type": "code",
   "execution_count": 5,
   "id": "b1927c3c-d7c0-4c24-8a03-fa79807bc401",
   "metadata": {},
   "outputs": [
    {
     "name": "stdout",
     "output_type": "stream",
     "text": [
      "/Users/picetrp/Documents/Learn/KMUTT/MS/projects/simple_rag\n",
      "/Users/picetrp/Documents/Learn/KMUTT/MS/projects/simple_rag/notebooks\n"
     ]
    }
   ],
   "source": [
    "import os\n",
    "print(os.getenv(\"PWD\"))\n",
    "print(os.getcwd())"
   ]
  },
  {
   "cell_type": "code",
   "execution_count": 6,
   "id": "8338bc12-7612-4146-a5bc-01b48a5bb21b",
   "metadata": {},
   "outputs": [],
   "source": [
    "from pydantic import Field, validator\n",
    "from pydantic_settings import BaseSettings, SettingsConfigDict\n",
    "import os\n",
    "\n",
    "class Settings(BaseSettings):\n",
    "    # * langsmith setting\n",
    "    langsmith_tracing: str\n",
    "    langsmith_endpoint: str\n",
    "    langsmith_api_key: str\n",
    "    langsmith_project: str\n",
    "\n",
    "    # * openai settings\n",
    "    openai_api_key: str\n",
    "    google_api_key: str\n",
    "    embedding_model: str = \"all-MiniLM-L6-v2\"\n",
    "    \n",
    "    # * qdrant settings\n",
    "    qdrant_cloud_api_key: str\n",
    "    qdrant_cloud_url: str = \"https://cloud.qdrant.io\"\n",
    "    qdrant_collection_name: str = \"demo_collection\"\n",
    "\n",
    "    # * huggingface token\n",
    "    huggingface_token: str\n",
    "    \n",
    "    # * chunking settings\n",
    "    chunk_size: int = 1000\n",
    "    chunk_overlap: int = 200\n",
    "    top_k_results: int = 5\n",
    "    \n",
    "    # * api settings\n",
    "    api_host: str = \"0.0.0.0\"\n",
    "    api_port: int = 8000\n",
    "    \n",
    "    # * file settings\n",
    "    root_dir: str = \"/Users/picetrp/Documents/Learn/KMUTT/MS/projects/simple_rag\"\n",
    "    upload_dir: str = os.path.join(root_dir, \"data/uploads\")\n",
    "\n",
    "    model_config = SettingsConfigDict(\n",
    "        env_file= os.path.join(root_dir, \".env\"),\n",
    "        env_file_encoding=\"utf-8\",\n",
    "    )\n",
    "    \n",
    "    def __init__(self, **kwargs):\n",
    "        super().__init__(**kwargs)\n",
    "        os.makedirs(self.upload_dir, exist_ok=True)\n",
    "\n",
    "settings = Settings()"
   ]
  },
  {
   "cell_type": "markdown",
   "id": "c03cfa80-b147-4d9a-88be-5909d226b32f",
   "metadata": {},
   "source": [
    "# Document"
   ]
  },
  {
   "cell_type": "code",
   "execution_count": 11,
   "id": "2e0d49dd-b39f-4329-a049-d5b2d3b3c6a4",
   "metadata": {},
   "outputs": [
    {
     "data": {
      "text/plain": [
       "'/Users/picetrp/Documents/Learn/KMUTT/MS/projects/simple_rag/data/uploads'"
      ]
     },
     "execution_count": 11,
     "metadata": {},
     "output_type": "execute_result"
    }
   ],
   "source": [
    "root_path = settings.root_dir\n",
    "data_dirpath = settings.upload_dir\n",
    "data_dirpath"
   ]
  },
  {
   "cell_type": "code",
   "execution_count": 17,
   "id": "716b4374-b5a4-41fb-9946-517bb0078d47",
   "metadata": {},
   "outputs": [
    {
     "data": {
      "text/plain": [
       "['/Users/picetrp/Documents/Learn/KMUTT/MS/projects/simple_rag/data/uploads/รายละเอียดในการสอบ_short_paper.pdf',\n",
       " '/Users/picetrp/Documents/Learn/KMUTT/MS/projects/simple_rag/data/uploads/ข้อมูลที่ต้องเขียนในส่วนของวิธีดำเนินการวิจัยโดยสังเขป.doc',\n",
       " '/Users/picetrp/Documents/Learn/KMUTT/MS/projects/simple_rag/data/uploads/Template-short-Paper-3-1.docx',\n",
       " '/Users/picetrp/Documents/Learn/KMUTT/MS/projects/simple_rag/data/uploads/sit_kmutt_แนะนำการทำ_Short_Paper.txt',\n",
       " '/Users/picetrp/Documents/Learn/KMUTT/MS/projects/simple_rag/data/uploads/แบบฟอร์ม_บ1_IRB.doc',\n",
       " '/Users/picetrp/Documents/Learn/KMUTT/MS/projects/simple_rag/data/uploads/รายชื่อคณะกรรมการสอบการศึกษาค้นคว้าอิสระขั้นสุดท้าย.pdf',\n",
       " '/Users/picetrp/Documents/Learn/KMUTT/MS/projects/simple_rag/data/uploads/การโอนลิขสิทธิ์การศึกษาโครงการเฉพาะเรื่อง-IT.docx',\n",
       " '/Users/picetrp/Documents/Learn/KMUTT/MS/projects/simple_rag/data/uploads/การโอนลิขสิทธิ์การศึกษาโครงการเฉพาะเรื่อง-BIS.docx']"
      ]
     },
     "execution_count": 17,
     "metadata": {},
     "output_type": "execute_result"
    }
   ],
   "source": [
    "from typing import List, Set\n",
    "\n",
    "def get_filtered_files_by_extension(folder_path: str,\n",
    "                                    extensions: Set[str] = {\".pdf\", \".txt\", \".docx\", \".doc\"}\n",
    "                                   ) -> List[str]:\n",
    "    extensions = {ext.lower() for ext in extensions}  # Ensure all extensions are lowercase\n",
    "\n",
    "    try:\n",
    "        all_files = os.listdir(folder_path)\n",
    "    except FileNotFoundError:\n",
    "        raise ValueError(f\"Folder not found: {folder_path}\")\n",
    "\n",
    "    return [\n",
    "        f for f in all_files\n",
    "        if os.path.isfile(os.path.join(folder_path, f)) and os.path.splitext(f)[1].lower() in extensions\n",
    "    ]\n",
    "\n",
    "doc_files = get_filtered_files_by_extension(data_dirpath)\n",
    "doc_files = [os.path.join(data_dirpath, filename) for filename in doc_files]\n",
    "doc_files"
   ]
  },
  {
   "cell_type": "code",
   "execution_count": 20,
   "id": "9708d5ab-e55c-41f1-beff-d993991bff15",
   "metadata": {},
   "outputs": [],
   "source": [
    "import os\n",
    "from langchain_community.document_loaders import TextLoader, PyPDFLoader, UnstructuredWordDocumentLoader\n",
    "from langchain_text_splitters import RecursiveCharacterTextSplitter\n",
    "\n",
    "def preprocess_document(file_path):\n",
    "    \"\"\"\n",
    "    Load a document based on its file extension and return LangChain Document(s).\n",
    "    \n",
    "    Supported:\n",
    "    - .txt\n",
    "    - .pdf\n",
    "    - .docx\n",
    "    \"\"\"\n",
    "    ext = os.path.splitext(file_path)[1].lower()\n",
    "    \n",
    "    if ext == \".txt\":\n",
    "        loader = TextLoader(file_path, encoding=\"utf-8\")\n",
    "    elif ext == \".pdf\":\n",
    "        loader = PyPDFLoader(file_path)\n",
    "    elif ext == \".docx\" or ext == \".doc\":\n",
    "        loader = UnstructuredWordDocumentLoader(file_path, mode=\"elements\")\n",
    "    else:\n",
    "        raise ValueError(f\"Unsupported file type: {ext}\")\n",
    "    \n",
    "    return loader.load()"
   ]
  },
  {
   "cell_type": "code",
   "execution_count": 22,
   "id": "931a9559-52d2-444e-b80a-9018e1177e95",
   "metadata": {},
   "outputs": [
    {
     "data": {
      "application/vnd.jupyter.widget-view+json": {
       "model_id": "abdc4cbcf26d4c1fafd9471775c20a2c",
       "version_major": 2,
       "version_minor": 0
      },
      "text/plain": [
       "  0%|          | 0/8 [00:00<?, ?it/s]"
      ]
     },
     "metadata": {},
     "output_type": "display_data"
    }
   ],
   "source": [
    "from tqdm.notebook import tqdm\n",
    "from langchain_community.document_loaders import PyPDFLoader\n",
    "all_docs = []\n",
    "for doc_path in tqdm(doc_files):\n",
    "    doc_content = preprocess_document(doc_path)\n",
    "    all_docs.append(doc_content)"
   ]
  },
  {
   "cell_type": "code",
   "execution_count": 23,
   "id": "7ed97fbd-b31b-4be5-b8f2-674982cb471b",
   "metadata": {
    "scrolled": true
   },
   "outputs": [
    {
     "data": {
      "text/plain": [
       "[Document(metadata={'producer': 'Microsoft® Word for Microsoft 365', 'creator': 'Microsoft® Word for Microsoft 365', 'creationdate': '2025-05-18T12:50:12+07:00', 'author': 'WALAIPUN PORNWIROON', 'moddate': '2025-05-18T12:50:12+07:00', 'source': '/Users/picetrp/Documents/Learn/KMUTT/MS/projects/simple_rag/data/uploads/รายละเอียดในการสอบ_short_paper.pdf', 'total_pages': 2, 'page': 0, 'page_label': '1'}, page_content='ขั้นตอนที่ต้องปฏิบัติก่อนถึงวันสอบ Short Paper ขั้นสุดท้าย (เฉพาะนักศึกษารหัสนำหน้า 63XXXXXXXXX \\nขึ้นไป) \\n            1.นักศึกษาต้องแก้ไขตามคำแนะนำของอาจารย์ที่ปรึกษาและกรรมการภายในคณะฯ ให้เสร็จสิ้นเรียบร้อย      \\nทั้งนี้ระบบจะดึงบทความ Short Paper ฉบับล่าสุดให้กับผู้ทรงคุณวุฒิภายนอกอัตโนมัติ \\n2. ดำเนินการ Upload คลิป VDO บรรยายผลการศึกษา Short Paper ความยาวประมาณ ไม่เกิน 5 นาที      \\nไฟล์ PowerPoint และบทความ Short Paper ฉบับสมบูรณ์ที่ผ่านจากกรรมการภายในคณะ 2 ท่านเรียบร้อยแล้ว ให้ \\nUpload link ใน Google Drive เท่านั้น ไม่อนุญาต Upload link ใน YouTube โดยนำ link ที่จัดเก็บข้อมูลดังกล่าว \\nUpload ให้กรรมการทั้ง 3 ท่าน ได้ที่ http://www2.sit.kmutt.ac.th/isreport/New/  โดยกรรมการภายนอกเริ่มอ่าน \\n(เนื่องจากกรรมการภายนอก 1 ท่านต้องอ่านบทความ Short Paper หลายชื่อเรื่อง ดังนั้นขอให้นักศึกษาดำเนินการให้แล้ว\\nเสร็จภายในระยะเวลาที่ประกาศไว้ในกำหนดการ)  \\n 3. กรุณาตรวจสอบเวลาสอบ https://www.sit.kmutt.ac.th/short-paper/  กรณีที่นักศึกษาไม่เข้าสอบในวันเสาร์\\nที่ 24 พฤษภาคม 2568 ตามช่วงเวลาที่ประกาศไว้  ผลการประเมิน Short paper “ไม่ผ่าน” ทันที \\n \\n \\n \\nข้อปฏิบัติการสอบ Short Paper ขั้นสุดท้าย  (วันเสาร์ที่ 24 พฤษภาคม 2568) \\n1. สอบผ่านระบบ Zoom โดยเข้าที่ URL: https://kmutt-ac-th.zoom.us/j/96941702766 \\n2. Rename ชื่อดังนี้ ห้องสอบ_รหัสนักศึกษาสองตัวหน้า_รหัสนักศึกษาสามตัวท้าย_ชื่อภาษาไทย  \\nเช่น A_55_999_คุณิตา เป็นต้น   \\n            3. เข้าระบบ Zoom ก่อนถึงเวลาสอบอย่างน้อย 15 นาที โดยรออยู่ใน Waiting Room และเจ้าหน้าที่จะเชิญ \\nนักศึกษาเข้าห้องสอบ (หมายเหตุ การเข้าสอบของแต่ละบุคคลอาจใช้เวลาสอบมากหรือน้อยกว่าที่กำหนดตารางประกาศ \\nนักศึกษาโปรดรอการเรียกเข้าสอบ)  \\n4. เปิดกล้องตลอดเวลาการสอบ (โปรดแต่งกายสุภาพ)   \\n5. สอบปากเปล่า  \\n6. เสร็จสิ้นการสอบและแก้ไขตามคำแนะนำของคณะกรรมการสอบ (ตามกำหนดการ Short Paper) \\n  \\n \\nกำหนดการสอบ Present Short Paper ขั้นสุดท้าย  (วันเสาร์ที่ 24 พฤษภาคม 2568) \\n1. การสอบแบ่งห้องสอบออกเป็น 3 ห้อง คือ ห้อง A ห้อง B และห้อง C                           \\n2. ให้นักศึกษาเข้าสอบตามวันและเวลาที่กำหนด     \\n• ห้อง A        \\nเริ่มสอบช่วงเช้า 09.00-12.00 น.     เริ่มสอบช่วงบ่าย 13.00-15.00 น. \\n• ห้อง B  \\nเริ่มสอบช่วงเช้า 09.00-12.00 น.     เริ่มสอบช่วงบ่าย 13.00-15.00 น. \\n• ห้อง C  \\nเริ่มสอบช่วงเช้า 09.00-12.00 น.     เริ่มสอบช่วงบ่าย 13.00-15.00 น. \\n \\n3. ให้นักศึกษาปรับแก้ชื่ออาจารย์ที่ปรึกษาในบทคัดย่อภาษาไทย และภาษาอังกฤษ เดิมจากอาจารย์ \\nที่ปรึกษาประจำวิชาเป็นชื่ออาจารย์ที่ปรึกษาตามไฟล์ excel ที่ประกาศรายชื่อคณะกรรมการสอบค้นคว้าอิสระ               \\nขั้นสุดท้าย Short Paper   \\n4. กรณีชื่อเรื่องใน Short Paper มีการเปลี่ยนแปลงทั้งภาษาไทย และ (หรือ) ภาษาอังกฤษ หลังจากให้'),\n",
       " Document(metadata={'producer': 'Microsoft® Word for Microsoft 365', 'creator': 'Microsoft® Word for Microsoft 365', 'creationdate': '2025-05-18T12:50:12+07:00', 'author': 'WALAIPUN PORNWIROON', 'moddate': '2025-05-18T12:50:12+07:00', 'source': '/Users/picetrp/Documents/Learn/KMUTT/MS/projects/simple_rag/data/uploads/รายละเอียดในการสอบ_short_paper.pdf', 'total_pages': 2, 'page': 1, 'page_label': '2'}, page_content='คณะกรรมการภายใน และ (หรือ) ผู้เชี่ยวชาญทางด้านภาษาต่างประเทศตรวจสอบ ให้นักศึกษา update ชื่อเรื่องล่าสุด ใน\\nระบบ Short Paper (หมายเหตุ ชื่อเรื่องอาจไม่ตรงกับแบบ บ.1 หรือที่แต่งตั้งเบื้องต้น ดังนั้นวันที่เสนอผลงานให้นักศึกษาใช้\\nชื่อเรื่องล่าสุดในการนำเสนอ) \\n \\n \\nข้อปฏิบัติหลังจากสอบ Short Paper ขั้นสุดท้ายให้ปฏิบัติ ดังนี้ \\n1. แก้ไขบทความ Short Paper ตามคำแนะนำของคณะกรรมการตามระยะเวลาที่ประกาศในกำหนดการ \\nให้กรอกชื่อเรื่องทั้งภาษาไทยและภาษาอังกฤษที่ update ล่าสุดในระบบ Short Paper  (เจ้าหน้าที่ระบบจะดึงข้อมูลชื่อเรื่อง\\nภาษาไทย และชื่อเรื่องภาษาอังกฤษให้ฝ่ายบริการการศึกษาเพื่อใช้ในการทำเรื่องสำเร็จการศึกษา) \\n2. แก้ไขเอกสารแบบ บ.1 ให้เป็นชื่อเรื่องล่าสุด (ชื่อเรื่องเดียวกับบทความ Short Paper ฉบับสมบูรณ์) และชื่อ \\nอาจารย์ที่ปรึกษาตามประกาศ  \\n3. Upload เอกสารแบบ บ.1 เข้าระบบ Short Paper ใหม่ เฉพาะกรณีที่มีการเปลี่ยนชื่อเรื่องใหม่ และ (หรือ)   \\nชื่ออาจารย์ที่ปรึกษาตามประกาศ  ซึ่งประกอบด้วยแผ่นที่ 1 เป็นเอกสารแบบ บ.1 (ใบเดิม) ที่มีลายเซ็นของอาจารย์ประจำ\\nวิชา และแผ่นที่ 2 เป็นเอกสารแบบ บ.1 มีการเปลี่ยนชื่อเรื่องใหม่ และ (หรือ) ชื่ออาจารย์ที่ปรึกษาตามประกาศ  ทั้งนี้ให้ระบุ     \\nวันที่ เดือน ปี ล่าสุด โดย save เป็น file เดียวกัน จากนั้น upload เอกสารแบบ บ.1 เข้าระบบ Short Paper โดยให้\\nดำเนินการขั้นตอนดังกล่าวหลังจากที่ได้รับผล “ผ่าน” ตามเกณฑ์ตรวจการโจรกรรมทางวรรณกรรมตามที่กำหนดไว้ \\n(เจ้าหน้าที่จะเป็นผู้ประสานงานการลงนามของอาจารย์ที่ปรึกษาในเอกสารแบบบ 1 ฉบับล่าสุดให้กับนักศึกษา) \\n   หมายเหตุ  กรณีชื่อเรื่องและชื่ออาจารย์ที่ปรึกษาไม่มีการเปลี่ยนแปลง ให้ใช้เอกสารแบบ บ.1 ใบเดิม โดยไม่ต้อง \\nupload ใหม่')]"
      ]
     },
     "execution_count": 23,
     "metadata": {},
     "output_type": "execute_result"
    }
   ],
   "source": [
    "all_docs[0]"
   ]
  },
  {
   "cell_type": "markdown",
   "id": "21a0ee26-ba08-416a-be42-d799a07d9209",
   "metadata": {},
   "source": [
    "# Qdrant"
   ]
  },
  {
   "cell_type": "code",
   "execution_count": 5,
   "id": "9b743fb0-a125-4d1c-b306-a74856844c1c",
   "metadata": {},
   "outputs": [],
   "source": [
    "from qdrant_client import models, QdrantClient\n",
    "from sentence_transformers import SentenceTransformer"
   ]
  },
  {
   "cell_type": "code",
   "execution_count": 6,
   "id": "16ae13bc-cd98-4fdd-9192-c1e00d53d172",
   "metadata": {},
   "outputs": [],
   "source": [
    "import os\n",
    "from huggingface_hub import login\n",
    "login(token=settings.huggingface_token)"
   ]
  },
  {
   "cell_type": "code",
   "execution_count": 7,
   "id": "d03eb8a3-1e33-4143-8dd8-d1109e449646",
   "metadata": {
    "scrolled": true
   },
   "outputs": [],
   "source": [
    "encoder = SentenceTransformer(\"all-MiniLM-L6-v2\")"
   ]
  },
  {
   "cell_type": "code",
   "execution_count": 8,
   "id": "63210638-b27e-4201-b8d9-bc9d89709ce2",
   "metadata": {},
   "outputs": [],
   "source": [
    "from qdrant_client import QdrantClient\n",
    "\n",
    "client = QdrantClient(url=settings.qdrant_cloud_url, api_key=settings.qdrant_cloud_api_key)"
   ]
  },
  {
   "cell_type": "code",
   "execution_count": 10,
   "id": "f4c3def4-6aa1-4d35-8834-f893ad511b2a",
   "metadata": {
    "scrolled": true
   },
   "outputs": [],
   "source": [
    "from qdrant_client.models import Distance, VectorParams\n",
    "\n",
    "def create_collection(client: QdrantClient,\n",
    "                      collection_name: str = \"test_collection\",\n",
    "                      vector_size: int = 384, \n",
    "                      distance: Distance = Distance.DOT, \n",
    "                      **kwargs) -> None:\n",
    "    client.create_collection(\n",
    "        collection_name=collection_name,\n",
    "        vectors_config=VectorParams(\n",
    "            size=vector_size, \n",
    "            distance=distance\n",
    "        ),\n",
    "    )\n",
    "    return \n",
    "\n",
    "def delete_collection(client: QdrantClient,\n",
    "                      collection_name: str = \"test_collection\",\n",
    "                      **kwargs) -> None:\n",
    "    client.delete_collection(\n",
    "        collection_name=collection_name,\n",
    "    )\n",
    "\n",
    "# create_collection(client, distance=Distance.COSINE)\n",
    "# delete_collection(client, collection_name=\"testestest\")"
   ]
  },
  {
   "cell_type": "code",
   "execution_count": null,
   "id": "87e8eced-8a35-44c7-bf87-85dd08460313",
   "metadata": {},
   "outputs": [],
   "source": [
    "from qdrant_client.models import PointStruct, Filter\n",
    "\n",
    "def upsert():\n",
    "    vectors = self.embedder.embed(texts)\n",
    "    points = [\n",
    "        PointStruct(id=ids[i], vector=vectors[i], payload=metadatas[i])\n",
    "        for i in range(len(ids))\n",
    "    ]\n",
    "    self.qdrant_client.upsert(collection_name=self.collection_name, points=points)"
   ]
  },
  {
   "cell_type": "code",
   "execution_count": null,
   "id": "18163b9e-3bab-4885-95ce-380d2b6cc4c8",
   "metadata": {},
   "outputs": [],
   "source": []
  }
 ],
 "metadata": {
  "kernelspec": {
   "display_name": "simple_rag",
   "language": "python",
   "name": "simple_rag"
  },
  "language_info": {
   "codemirror_mode": {
    "name": "ipython",
    "version": 3
   },
   "file_extension": ".py",
   "mimetype": "text/x-python",
   "name": "python",
   "nbconvert_exporter": "python",
   "pygments_lexer": "ipython3",
   "version": "3.12.11"
  }
 },
 "nbformat": 4,
 "nbformat_minor": 5
}
